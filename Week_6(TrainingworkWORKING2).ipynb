{
  "cells": [
    {
      "cell_type": "markdown",
      "metadata": {
        "id": "view-in-github",
        "colab_type": "text"
      },
      "source": [
        "<a href=\"https://colab.research.google.com/github/jcvancity2022/Computer-Vision-Project-Overview/blob/main/Week_6(TrainingworkWORKING2).ipynb\" target=\"_parent\"><img src=\"https://colab.research.google.com/assets/colab-badge.svg\" alt=\"Open In Colab\"/></a>"
      ]
    },
    {
      "cell_type": "markdown",
      "metadata": {
        "id": "CvIx0KGWlPtp"
      },
      "source": [
        "<center><h1> <b>Image Dataset Analysis and Project Development with YOLO </b> </center> </h1>\n",
        "\n",
        "In this tutorial, we will see how image datasets with different types of tasks such as detection , segmentation etc. look like, and how they are labelled, specifically in YOLO format.\n",
        "\n",
        "Then, we will download one dataset to explore it and clean it if required.\n",
        "\n"
      ]
    },
    {
      "cell_type": "markdown",
      "metadata": {
        "id": "qLUWE8gn9_RB"
      },
      "source": [
        "## **Classification**\n",
        "\n",
        "Image classification is the simplest and involves classifying an entire image into one of a set of predefined classes.\n",
        "\n",
        "The output of an image classifier is a single class label and a confidence score. Image classification is useful when you need to know only what class an image belongs to and don't need to know where objects of that class are located or what their exact shape is.\n",
        "\n"
      ]
    },
    {
      "cell_type": "markdown",
      "metadata": {
        "id": "DSkOCZxt-ZAO"
      },
      "source": [
        "\n",
        "\n",
        "&nbsp;&nbsp;&nbsp;&nbsp;&nbsp;&nbsp;&nbsp;&nbsp;\n",
        "<img align=\"left\" src=\"https://user-images.githubusercontent.com/26833433/243418606-adf35c62-2e11-405d-84c6-b84e7d013804.png\" width=\"600\">"
      ]
    },
    {
      "cell_type": "markdown",
      "metadata": {
        "id": "OstzhA30B2tK"
      },
      "source": [
        "Usually each image has a single object in it, which is its class> Following image shows CIFAR10 Dataset.\n",
        "\n",
        "&nbsp;&nbsp;&nbsp;&nbsp;&nbsp;&nbsp;&nbsp;&nbsp;\n",
        "<img align=\"left\" src=\"https://datagen.tech/wp-content/uploads/2022/11/image1.png\" width=\"600\">\n",
        "\n"
      ]
    },
    {
      "cell_type": "markdown",
      "metadata": {
        "id": "hcIc5sJBCx2S"
      },
      "source": [
        "The dataset should be labelled by arranging them in the following folders heirarchy.\n",
        "\n",
        "              root/\n",
        "              |-- class1/\n",
        "              |   |-- img1.jpg\n",
        "              |   |-- img2.jpg\n",
        "              |   |-- ...\n",
        "              |\n",
        "              |-- class2/\n",
        "              |   |-- img1.jpg\n",
        "              |   |-- img2.jpg\n",
        "              |   |-- ...\n",
        "              |\n",
        "              |-- class3/\n",
        "              |   |-- img1.jpg\n",
        "              |   |-- img2.jpg\n",
        "              |   |-- ...\n",
        "              |\n",
        "              |-- ...\n",
        "\n",
        "In this folder structure, the root directory contains one subdirectory for each class in the dataset. Each subdirectory is named after the corresponding class and contains all the images for that class.\n",
        "\n",
        "For example:\n",
        "\n",
        "              cifar-10-/\n",
        "              |\n",
        "              |-- train/\n",
        "              |   |-- airplane/\n",
        "              |   |   |-- 10008_airplane.png\n",
        "              |   |   |-- 10009_airplane.png\n",
        "              |   |   |-- ...\n",
        "              |   |\n",
        "              |   |-- automobile/\n",
        "              |   |   |-- 1000_automobile.png\n",
        "              |   |   |-- 1001_automobile.png\n",
        "              |   |   |-- ...\n",
        "              |   |\n",
        "              |   |-- bird/\n",
        "              |   |   |-- 10014_bird.png\n",
        "              |   |   |-- 10015_bird.png\n",
        "              |   |   |-- ...\n",
        "              |   |\n",
        "              |   |-- ...\n",
        "              |\n",
        "              |-- test/\n",
        "              |   |-- airplane/\n",
        "              |   |   |-- 10_airplane.png\n",
        "              |   |   |-- 11_airplane.png\n",
        "              |   |   |-- ...\n",
        "              |   |\n",
        "              |   |-- automobile/\n",
        "              |   |   |-- 100_automobile.png\n",
        "              |   |   |-- 101_automobile.png\n",
        "              |   |   |-- ...\n",
        "              |   |\n",
        "              |   |-- bird/\n",
        "              |   |   |-- 1000_bird.png\n",
        "              |   |   |-- 1001_bird.png\n",
        "              |   |   |-- ...\n",
        "              |   |\n",
        "              |   |-- ..."
      ]
    },
    {
      "cell_type": "markdown",
      "metadata": {
        "id": "vTjx8pXEB1B5"
      },
      "source": []
    },
    {
      "cell_type": "markdown",
      "metadata": {
        "id": "5cZ9e5J4zvF9"
      },
      "source": [
        "## **Object Detection**"
      ]
    },
    {
      "cell_type": "markdown",
      "metadata": {
        "id": "52PMPO-rgZq-"
      },
      "source": [
        "Object detection is a task that involves identifying the location and class of objects in an image or video stream.\n",
        "\n",
        "The output of an object detector is a set of bounding boxes that enclose the objects in the image, along with class labels and confidence scores for each box."
      ]
    },
    {
      "cell_type": "markdown",
      "metadata": {
        "id": "lDruPnQMi315"
      },
      "source": [
        "\n",
        "\n",
        "&nbsp;&nbsp;&nbsp;&nbsp;&nbsp;&nbsp;&nbsp;&nbsp;\n",
        "<img align=\"left\" src=\"https://user-images.githubusercontent.com/26833433/243418624-5785cb93-74c9-4541-9179-d5c6782d491a.png\" width=\"600\">"
      ]
    },
    {
      "cell_type": "markdown",
      "metadata": {
        "id": "kFz-X3Zx1xKn"
      },
      "source": [
        "**Labelling format**\n",
        "\n",
        "In object detection tasks, various labeling formats are used to annotate images with information about the objects present. These formats typically include details about the object's class and location within the image. Here are some of the most common labeling formats:\n",
        "\n",
        "1. COCO\n",
        "2. YOLO\n",
        "3. CSV  \n",
        "5. XML\n",
        "6. PASCAL VOC\n",
        "\n",
        "We will be discussing only YOLO format, as you will be using YOLO framework for your project:\n",
        "\n",
        "- One .txt file with labels file per image\n",
        "- One row per object\n",
        "- Each row contains:\n",
        "\n",
        "      class_id bbox_x_center bbox_y_center bbox_width bbox_height\n",
        "- Box coordinates must be normalized between 0 and 1\n",
        "\n",
        "\n",
        "An example:"
      ]
    },
    {
      "cell_type": "markdown",
      "metadata": {
        "id": "6es7DWt75YTf"
      },
      "source": [
        "\n",
        "\n",
        "\n",
        "&nbsp;&nbsp;&nbsp;&nbsp;&nbsp;&nbsp;&nbsp;&nbsp;\n",
        "<img align=\"left\" src=\"https://user-images.githubusercontent.com/26833433/91506361-c7965000-e886-11ea-8291-c72b98c25eec.jpg\" width=\"600\">"
      ]
    },
    {
      "cell_type": "markdown",
      "metadata": {
        "id": "KDeb1gEM5uIT"
      },
      "source": [
        "Corresponding label text file should look like:\n",
        "\n",
        "\n",
        "&nbsp;&nbsp;&nbsp;&nbsp;&nbsp;&nbsp;&nbsp;&nbsp;\n",
        "<img align=\"left\" src=\"https://user-images.githubusercontent.com/26833433/112467037-d2568c00-8d66-11eb-8796-55402ac0d62f.png\" width=\"600\">"
      ]
    },
    {
      "cell_type": "markdown",
      "metadata": {
        "id": "0brGPZa4oRk7"
      },
      "source": [
        "## **Segmentation**\n"
      ]
    },
    {
      "cell_type": "markdown",
      "metadata": {
        "id": "_56IDqcG6mNw"
      },
      "source": [
        "Instance segmentation goes a step further than object detection and involves identifying individual objects in an image and segmenting them from the rest of the image.\n",
        "\n",
        "The output of an instance segmentation model is a set of masks or contours that outline each object in the image, along with class labels and confidence scores for each object. Instance segmentation is useful when you need to know not only where objects are in an image, but also what their exact shape is.\n",
        "\n"
      ]
    },
    {
      "cell_type": "markdown",
      "metadata": {
        "id": "oItmHrqo8qLM"
      },
      "source": [
        "\n",
        "\n",
        "&nbsp;&nbsp;&nbsp;&nbsp;&nbsp;&nbsp;&nbsp;&nbsp;\n",
        "<img align=\"left\" src=\"https://user-images.githubusercontent.com/26833433/243418644-7df320b8-098d-47f1-85c5-26604d761286.png\" width=\"600\">"
      ]
    },
    {
      "cell_type": "markdown",
      "metadata": {
        "id": "M2C24Fz389GY"
      },
      "source": [
        "**Labelling format for YOLO**\n",
        "\n",
        "\n",
        "- One .txt file with labels file per image\n",
        "- One row per object\n",
        "- Each row contains:\n",
        "  - class index: An integer representing the class of the object (e.g., 0 for person, 1 for car, etc.).\n",
        "  - bounding coordinates: The bounding coordinates around the mask area, normalized to be between 0 and 1.\n",
        "\n",
        "\n",
        "      <class-index> <x1> <y1> <x2> <y2> ... <xn> <yn>\n",
        "\n",
        "\n",
        "Here is an example of the YOLO dataset format for a single image with two objects made up of a 3-point segment and a 5-point segment.\n",
        "\n",
        "\n",
        "      0 0.681 0.485 0.670 0.487 0.676 0.487\n",
        "      1 0.504 0.000 0.501 0.004 0.498 0.004 0.493 0.010 0.492 0.0104\n"
      ]
    },
    {
      "cell_type": "markdown",
      "metadata": {
        "id": "CPFHkCO8-2mW"
      },
      "source": [
        "## **Pose Estimation**\n",
        "Pose estimation is a task that involves identifying the location of specific points in an image, usually referred to as keypoints. The keypoints can represent various parts of the object such as joints, landmarks, or other distinctive features. The locations of the keypoints are usually represented as a set of 2D [x, y] or 3D [x, y, visible] coordinates.\n",
        "\n",
        "The output of a pose estimation model is a set of points that represent the keypoints on an object in the image, usually along with the confidence scores for each point. Pose estimation is a good choice when you need to identify specific parts of an object in a scene, and their location in relation to each other."
      ]
    },
    {
      "cell_type": "markdown",
      "metadata": {
        "id": "zebzQ_Z6_CB9"
      },
      "source": [
        "\n",
        "\n",
        "&nbsp;&nbsp;&nbsp;&nbsp;&nbsp;&nbsp;&nbsp;&nbsp;\n",
        "<img align=\"left\" src=\"https://user-images.githubusercontent.com/26833433/243418616-9811ac0b-a4a7-452a-8aba-484ba32bb4a8.png\" width=\"600\">"
      ]
    },
    {
      "cell_type": "markdown",
      "metadata": {
        "id": "z9M4kU8P_QWU"
      },
      "source": [
        "**Labelling format for YOLO**\n",
        "\n",
        "\n",
        "- One .txt file with labels file per image\n",
        "- One row per object\n",
        "- Each row contains:\n",
        "  - Object class index: An integer representing the class of the object (e.g., 0 for person, 1 for car, etc.).\n",
        "  - Object center coordinates: The x and y coordinates of the center of the object, normalized to be between 0 and 1.\n",
        "  - Object width and height: The width and height of the object, normalized to be between 0 and 1.\n",
        "  - Object keypoint coordinates: The keypoints of the object, normalized to be between 0 and 1.\n",
        "\n",
        "\n",
        "Here is an example of the label format for pose estimation task:\n",
        "\n",
        "Format with Dim = 2\n",
        "\n",
        "      <class-index> <x> <y> <width> <height> <px1> <py1> <px2> <py2> ... <pxn> <pyn>\n",
        "Format with Dim = 3\n",
        "\n",
        "      <class-index> <x> <y> <width> <height> <px1> <py1> <p1-visibility> <px2> <py2> <p2-visibility> ... <pxn> <pyn> <p2-visibility>"
      ]
    },
    {
      "cell_type": "code",
      "execution_count": null,
      "metadata": {
        "id": "3jCdTqcVbN4h"
      },
      "outputs": [],
      "source": [
        "from google.colab import drive\n",
        "drive.mount('/content/drive')"
      ]
    },
    {
      "cell_type": "markdown",
      "metadata": {
        "id": "hsAvGgxxHAS3"
      },
      "source": [
        "## FOLDERS HEIRARCHY\n"
      ]
    },
    {
      "cell_type": "markdown",
      "metadata": {
        "id": "gt4h9bFXjV9V"
      },
      "source": [
        "\n",
        "\n",
        " We need to convert the dataset into a specific heirarchy of folders for all the tasks except for task of classification.\n",
        "\n",
        "\n",
        "The directories should be in the following format:\n",
        "\n",
        "![image.png](data:image/png;base64,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)\n"
      ]
    },
    {
      "cell_type": "markdown",
      "metadata": {
        "id": "ZKyjblYvb8fW"
      },
      "source": [
        "# **COCO128 Dataset**\n",
        "\n",
        "This section aims to introduce you to COCO dataset frequently used in Artificial Intelligence (AI).It is a foundational dataset in AI, widely used for tasks like object detection, segmentation, and image captioning.\n",
        "\n",
        "\n",
        "It Contains over 330,000 images with more than 200,000 labeled across 80 object categories. Unique for its richly annotated images, including object segmentation.It is widely used in computer vision research and has been used to train and evaluate many state-of-the-art object detection and segmentation models.\n",
        "\n",
        "Link to full dataset: https://cocodataset.org/#home\n"
      ]
    },
    {
      "cell_type": "markdown",
      "metadata": {
        "id": "G11PH4xOo8zO"
      },
      "source": [
        "We are going using coco128 dataset.This dataset contains the first 128 images of COCO train 2017. It is used as the tutorial dataset for YOLO.\n",
        "\n",
        "Download the dataset from:\n",
        "https://www.kaggle.com/datasets/ultralytics/coco128/data\n"
      ]
    },
    {
      "cell_type": "markdown",
      "metadata": {
        "id": "_DUeZCUkSwkG"
      },
      "source": [
        "## Dataset Visualization"
      ]
    },
    {
      "cell_type": "markdown",
      "metadata": {
        "id": "NJe53Fzd1mZn"
      },
      "source": [
        "\n",
        "To draw bounding boxes on images we need to understand the labelling format used by this dataset. The labels for this dataset are stored in YOLO format. i.e.\n",
        "\n",
        "        class_id bbox_x_center bbox_y_center bbox_width bbox_height\n",
        "\n",
        "\n"
      ]
    },
    {
      "cell_type": "markdown",
      "metadata": {
        "id": "jvPN5o_jSKgK"
      },
      "source": [
        "The class_id is the numerical number assigned to different class labels as shown below:"
      ]
    },
    {
      "cell_type": "code",
      "execution_count": null,
      "metadata": {
        "id": "Qry8OPsHG3GK"
      },
      "outputs": [],
      "source": [
        "# Only fire and smoke classes\n",
        "class_labels = {\n",
        "    0: \"Fire\",   # originally \"Smoke\" if your labels are swapped\n",
        "    1: \"Smoke\"   # originally \"Fire\" if your labels are swapped\n",
        "}\n"
      ]
    },
    {
      "cell_type": "markdown",
      "metadata": {
        "id": "Tc8tH0PySW4n"
      },
      "source": [
        "The rest of the four values i.e.\n",
        "\n",
        "    0.479492 0.688771 0.955609 0.5955\n",
        "\n",
        "indidicate the location of the bounding box.\n",
        "\n",
        "These values are normalized, which should be converted to a format that can be used as coordinate values of rectangle function (of cv2)."
      ]
    },
    {
      "cell_type": "markdown",
      "metadata": {
        "id": "DQbCyFCMaueA"
      },
      "source": [
        "First import the required libraries:"
      ]
    },
    {
      "cell_type": "code",
      "execution_count": null,
      "metadata": {
        "id": "ZoPPaZu5a4Fp"
      },
      "outputs": [],
      "source": [
        "import cv2\n",
        "import matplotlib.pyplot as plt\n",
        "import random as random\n",
        "import os"
      ]
    },
    {
      "cell_type": "markdown",
      "metadata": {
        "id": "GEcvixvYa-A8"
      },
      "source": [
        "Set all the paths of the dataset:"
      ]
    },
    {
      "cell_type": "code",
      "execution_count": null,
      "metadata": {
        "id": "6xS3INAjbPTr"
      },
      "outputs": [],
      "source": [
        "# Set the path to the dataset\n",
        "dataset_path = \"/content/drive/MyDrive/Home fire dataset/test\"\n",
        "\n",
        "# Get the list of all images paths in the dataset\n",
        "image_paths = [os.path.join(dataset_path, \"images\", image_name) for image_name in os.listdir(os.path.join(dataset_path, \"images\"))]\n",
        "\n",
        "# Get the list of all labels paths in the dataset\n",
        "label_paths = [os.path.join(dataset_path, \"labels\", label_name) for label_name in os.listdir(os.path.join(dataset_path, \"labels\"))]\n",
        "\n",
        "print (image_paths)"
      ]
    },
    {
      "cell_type": "markdown",
      "metadata": {
        "id": "GpP4yE5-sitI"
      },
      "source": [
        "\n",
        "\n",
        "Set all the paths of the dataset of Fire and Smoke:\n",
        "\n"
      ]
    },
    {
      "cell_type": "code",
      "execution_count": null,
      "metadata": {
        "id": "wrVyXbVushbR"
      },
      "outputs": [],
      "source": [
        "import os\n",
        "\n",
        "dataset_root = \"/content/drive/MyDrive/Fire_and_Smoke_BBox_COCO_Dateset/coco128\"\n",
        "annotations_json = os.path.join(dataset_root, \"annotations\", \"instances_val2017.json\")\n",
        "\n",
        "# Check if JSON exists\n",
        "if os.path.exists(annotations_json):\n",
        "    print(f\"✅ JSON found at: {annotations_json}\")\n",
        "else:\n",
        "    print(f\"❌ JSON NOT found! Current working dir: {os.getcwd()}\")\n",
        "    # List contents of dataset_root to see folder names\n",
        "    print(\"Contents of dataset_root:\", os.listdir(dataset_root))\n",
        "    # List contents of annotations folder\n",
        "    annotations_folder = os.path.join(dataset_root, \"annotations\")\n",
        "    if os.path.exists(annotations_folder):\n",
        "        print(\"Contents of annotations folder:\", os.listdir(annotations_folder))\n",
        "    else:\n",
        "        print(\"Annotations folder not found!\")\n",
        "\n",
        "dataset_root = \"Fire and Smoke BBox COCO Dateset/coco128\"\n",
        "for root, dirs, files in os.walk(dataset_root):\n",
        "    for file in files:\n",
        "        if file.endswith(\".json\"):\n",
        "            print(\"Found JSON:\", os.path.join(root, file))\n"
      ]
    },
    {
      "cell_type": "code",
      "execution_count": null,
      "metadata": {
        "id": "_ZFQeneewaFY"
      },
      "outputs": [],
      "source": [
        "import os\n",
        "from pathlib import Path\n",
        "import json\n",
        "from PIL import Image\n",
        "from collections import defaultdict\n",
        "from tqdm import tqdm\n",
        "\n",
        "# ============================================================\n",
        "# 1️⃣ Dataset Paths — Auto Setup\n",
        "# ============================================================\n",
        "dataset_root = \"/content/drive/MyDrive/Fire_and_Smoke_BBox_COCO_Dateset/coco128\"\n",
        "\n",
        "images_dir = os.path.join(dataset_root, \"train2017\")\n",
        "annotations_dir = os.path.join(dataset_root, \"annotations\")\n",
        "json_file = os.path.join(annotations_dir, \"instances_train2017.json\")\n",
        "labels_dir = os.path.join(dataset_root, \"labels\", \"train\")\n",
        "\n",
        "os.makedirs(labels_dir, exist_ok=True)\n",
        "\n",
        "# Sanity checks\n",
        "if not os.path.exists(images_dir):\n",
        "    raise FileNotFoundError(f\"❌ Image folder missing: {images_dir}\")\n",
        "if not os.path.exists(json_file):\n",
        "    raise FileNotFoundError(f\"❌ COCO JSON not found: {json_file}\")\n",
        "\n",
        "print(f\"✅ Image path: {images_dir}\")\n",
        "print(f\"✅ JSON file:  {json_file}\")\n",
        "print(f\"✅ Output dir: {labels_dir}\")\n",
        "\n",
        "# ============================================================\n",
        "# 2️⃣ Load COCO JSON\n",
        "# ============================================================\n",
        "with open(json_file, \"r\") as f:\n",
        "    coco = json.load(f)\n",
        "\n",
        "# Validate COCO structure\n",
        "required_keys = {\"images\", \"annotations\", \"categories\"}\n",
        "if not required_keys.issubset(coco.keys()):\n",
        "    raise ValueError(f\"❌ Invalid COCO structure. Missing keys: {required_keys - set(coco.keys())}\")\n",
        "\n",
        "# Map image_id → filename and size\n",
        "img_id2file = {img['id']: img['file_name'] for img in coco['images']}\n",
        "img_id2size = {img['id']: (img['width'], img['height']) for img in coco['images']}\n",
        "\n",
        "# Group annotations per image\n",
        "img_annotations = defaultdict(list)\n",
        "for ann in coco['annotations']:\n",
        "    if ann.get('bbox') and ann['bbox'][2] > 0 and ann['bbox'][3] > 0:\n",
        "        img_annotations[ann['image_id']].append(ann)\n",
        "\n",
        "print(f\"📊 Total images in JSON:      {len(img_id2file)}\")\n",
        "print(f\"📊 Images with annotations:   {len(img_annotations)}\")\n",
        "\n",
        "# ============================================================\n",
        "# 3️⃣ Convert COCO → YOLO format\n",
        "# ============================================================\n",
        "for img_id, anns in tqdm(img_annotations.items(), desc=\"Converting COCO → YOLO TXT\"):\n",
        "    img_name = img_id2file[img_id]\n",
        "    img_path = os.path.join(images_dir, img_name)\n",
        "    txt_path = os.path.join(labels_dir, Path(img_name).stem + \".txt\")\n",
        "\n",
        "    # Retrieve image dimensions\n",
        "    if os.path.exists(img_path):\n",
        "        try:\n",
        "            with Image.open(img_path) as im:\n",
        "                w, h = im.size\n",
        "        except Exception:\n",
        "            w, h = img_id2size.get(img_id, (640, 480))\n",
        "    else:\n",
        "        w, h = img_id2size.get(img_id, (640, 480))\n",
        "\n",
        "    # Write YOLO annotation file\n",
        "    with open(txt_path, \"w\") as f:\n",
        "        for ann in anns:\n",
        "            cid = ann[\"category_id\"] - 1  # COCO is 1-indexed\n",
        "            x_min, y_min, box_w, box_h = ann[\"bbox\"]\n",
        "\n",
        "            if box_w <= 0 or box_h <= 0:\n",
        "                continue\n",
        "\n",
        "            x_center = (x_min + box_w / 2) / w\n",
        "            y_center = (y_min + box_h / 2) / h\n",
        "            width_norm = box_w / w\n",
        "            height_norm = box_h / h\n",
        "\n",
        "            f.write(f\"{cid} {x_center:.6f} {y_center:.6f} {width_norm:.6f} {height_norm:.6f}\\n\")\n",
        "\n",
        "# ============================================================\n",
        "# 4️⃣ Verify results (no display)\n",
        "# ============================================================\n",
        "txt_files = [f for f in os.listdir(labels_dir) if f.endswith(\".txt\")]\n",
        "if not txt_files:\n",
        "    raise RuntimeError(\"❌ No YOLO .txt labels were generated. Check your JSON data.\")\n",
        "else:\n",
        "    print(f\"✅ Successfully created {len(txt_files)} YOLO label files.\")\n",
        "\n",
        "print(\"🎯 Conversion complete. All annotations exported cleanly.\")\n",
        "\n",
        "\n",
        "\n"
      ]
    },
    {
      "cell_type": "code",
      "source": [
        "import os, random, time\n",
        "from pathlib import Path\n",
        "from PIL import Image, ImageDraw, ImageStat\n",
        "from IPython.display import display\n",
        "\n",
        "# ============================================================\n",
        "# 1️⃣ Dataset Paths\n",
        "# ============================================================\n",
        "dataset_root = \"/content/drive/MyDrive/Fire_and_Smoke_BBox_COCO_Dateset/coco128\"\n",
        "images_dir = os.path.join(dataset_root, \"train2017\")\n",
        "labels_dir = os.path.join(dataset_root, \"labels\", \"train\")\n",
        "\n",
        "# ============================================================\n",
        "# 2️⃣ Base Class Labels and Colors\n",
        "# ============================================================\n",
        "class_labels = {\n",
        "    0: \"🔥 Fire\",\n",
        "    1: \"💨 Serious Smoke\",\n",
        "    2: \"🌫️ Moderate Smoke\",\n",
        "    3: \"☁️ Mild Smoke\",\n",
        "    4: \"💧 Steam / False Alarm\",\n",
        "    5: \"🚫 Non-Fire Smoke\",\n",
        "    6: \"🕯️ Incense / Non-Threat Smoke\"\n",
        "}\n",
        "\n",
        "base_colors = {\n",
        "    0: (255, 60, 0),     # Fire\n",
        "    1: (40, 40, 40),     # Serious Smoke\n",
        "    2: (180, 100, 20),   # Moderate Smoke\n",
        "    3: (255, 220, 50),   # Mild Smoke\n",
        "    4: (150, 150, 150),  # Steam\n",
        "    5: (200, 200, 200),  # Non-fire Smoke\n",
        "    6: (130, 200, 255)   # Incense\n",
        "}\n",
        "\n",
        "# ============================================================\n",
        "# 3️⃣ YOLO → BBox\n",
        "# ============================================================\n",
        "def yolo_to_bbox(line, w, h):\n",
        "    parts = line.strip().split()\n",
        "    if len(parts) != 5: return None, None\n",
        "    cid, xc, yc, bw, bh = map(float, parts)\n",
        "    xc, yc, bw, bh = xc*w, yc*h, bw*w, bh*h\n",
        "    return int(cid), (int(xc-bw/2), int(yc-bh/2), int(xc+bw/2), int(yc+bh/2))\n",
        "\n",
        "# ============================================================\n",
        "# 4️⃣ Analyze Brightness and Contrast\n",
        "# ============================================================\n",
        "def analyze_visibility(img, bbox):\n",
        "    x1, y1, x2, y2 = bbox\n",
        "    region = img.crop((x1, y1, x2, y2)).convert(\"RGB\")\n",
        "    stat = ImageStat.Stat(region)\n",
        "    brightness = sum(stat.mean)/(3*255)\n",
        "    contrast = sum(stat.stddev)/(3*128)\n",
        "    return brightness, contrast\n",
        "\n",
        "# ============================================================\n",
        "# 5️⃣ Adaptive Visual Logic — Fire + Smoke Titles\n",
        "# ============================================================\n",
        "def adaptive_visuals(cid, brightness, contrast):\n",
        "    \"\"\"Adjust color and label title dynamically based on B and C.\"\"\"\n",
        "    r, g, b = base_colors[cid]\n",
        "    desc = \"\"\n",
        "    visibility = \"\"\n",
        "    color = (r, g, b)\n",
        "\n",
        "    # ---------------- FIRE ----------------\n",
        "    if cid == 0:\n",
        "        if brightness > 0.7 and contrast > 0.5:\n",
        "            desc, color = \"🔥 Inferno-Level Fire (Blinding Brightness)\", (255, 0, 0)\n",
        "        elif brightness > 0.5:\n",
        "            desc, color = \"🔥 Intense Flames (Strong Contrast)\", (255, 80, 20)\n",
        "        elif brightness > 0.3:\n",
        "            desc, color = \"🔥 Controlled Fire (Moderate Light)\", (255, 140, 40)\n",
        "        else:\n",
        "            desc, color = \"🔥 Smoldering Fire (Low Visibility)\", (180, 70, 30)\n",
        "\n",
        "    # ---------------- SMOKE ----------------\n",
        "    elif cid in [1, 2, 3, 4, 5]:\n",
        "        # Brightness and contrast map to visibility severity\n",
        "        if brightness < 0.25 and contrast < 0.25:\n",
        "            desc, color = \"💨 Dense Opaque Smoke (Zero Visibility)\", (50, 50, 50)\n",
        "            visibility = \"❌ Poor Visibility\"\n",
        "        elif brightness < 0.4:\n",
        "            desc, color = \"💨 Heavy Smoke (Low Visibility)\", (90, 90, 90)\n",
        "            visibility = \"⚠️ Reduced Visibility\"\n",
        "        elif brightness < 0.6:\n",
        "            desc, color = \"🌫️ Moderate Haze (Partially Clear)\", (150, 120, 80)\n",
        "            visibility = \"🟠 Moderate Visibility\"\n",
        "        else:\n",
        "            desc, color = \"☁️ Thin Smoke (Easily Visible)\", (200, 180, 130)\n",
        "            visibility = \"✅ Good Visibility\"\n",
        "\n",
        "        desc += f\" — {visibility}\"\n",
        "\n",
        "    # ---------------- INCENSE / NON-THREAT ----------------\n",
        "    elif cid == 6:\n",
        "        if brightness > 0.7:\n",
        "            desc, color = \"🕯️ Gentle Glow (Soft Light Diffusion)\", (150, 220, 255)\n",
        "        else:\n",
        "            desc, color = \"🕯️ Subtle Incense Haze\", (100, 180, 255)\n",
        "\n",
        "    return color, f\"{desc}\"\n",
        "\n",
        "# ============================================================\n",
        "# 6️⃣ Display Annotated Images\n",
        "# ============================================================\n",
        "shown = set()\n",
        "\n",
        "def display_dynamic_annotations(n=12):\n",
        "    global shown\n",
        "    image_exts = (\".jpg\", \".jpeg\", \".png\")\n",
        "    image_stems = {Path(f).stem for f in os.listdir(images_dir) if f.lower().endswith(image_exts)}\n",
        "    label_stems = {Path(f).stem for f in os.listdir(labels_dir) if f.endswith(\".txt\")}\n",
        "    matched = sorted(image_stems & label_stems)\n",
        "    unseen = list(set(matched) - shown)\n",
        "\n",
        "    if not unseen:\n",
        "        print(\"✅ All annotated images already shown.\")\n",
        "        return\n",
        "\n",
        "    random.seed(time.time())\n",
        "    sample = random.sample(unseen, min(n, len(unseen)))\n",
        "    shown.update(sample)\n",
        "\n",
        "    print(f\"\\n📸 Displaying {len(sample)} annotated images (remaining: {len(unseen)-len(sample)})...\\n\")\n",
        "\n",
        "    for stem in sample:\n",
        "        img_path = next((os.path.join(images_dir, stem+ext) for ext in image_exts if os.path.exists(os.path.join(images_dir, stem+ext))), None)\n",
        "        txt_path = os.path.join(labels_dir, stem + \".txt\")\n",
        "        if not img_path or not os.path.exists(txt_path):\n",
        "            continue\n",
        "\n",
        "        img = Image.open(img_path).convert(\"RGB\")\n",
        "        draw = ImageDraw.Draw(img)\n",
        "        w, h = img.size\n",
        "\n",
        "        # 🟨 Legend\n",
        "        y = 10\n",
        "        for cid, cname in class_labels.items():\n",
        "            draw.rectangle([10, y, 30, y+20], fill=base_colors[cid])\n",
        "            draw.text((40, y), cname, fill=base_colors[cid])\n",
        "            y += 22\n",
        "\n",
        "        # 🟥 Draw dynamic annotation boxes\n",
        "        with open(txt_path) as f:\n",
        "            for line in f.readlines():\n",
        "                cid, bbox = yolo_to_bbox(line, w, h)\n",
        "                if not bbox: continue\n",
        "                bright, cont = analyze_visibility(img, bbox)\n",
        "                color, new_label = adaptive_visuals(cid, bright, cont)\n",
        "\n",
        "                text_color = (255, 255, 255) if bright < 0.5 else (0, 0, 0)\n",
        "                draw.rectangle(bbox, outline=color, width=4)\n",
        "                draw.text((bbox[0] + 2, bbox[1] - 16),\n",
        "                          f\"{new_label} | B={bright:.2f}, C={cont:.2f}\",\n",
        "                          fill=text_color)\n",
        "                print(f\"{stem}.jpg — {new_label} | Bright={bright:.2f}, Contrast={cont:.2f}\")\n",
        "\n",
        "        display(img)\n",
        "        print(f\"✅ Displayed: {stem}.jpg\\n\")\n",
        "\n",
        "# ============================================================\n",
        "# 7️⃣ Run\n",
        "# ============================================================\n",
        "display_dynamic_annotations(n=20)\n",
        "\n",
        "\n"
      ],
      "metadata": {
        "id": "D5FKTOKTjNiS"
      },
      "execution_count": null,
      "outputs": []
    },
    {
      "cell_type": "code",
      "source": [
        "import os\n",
        "from pathlib import Path\n",
        "\n",
        "images_dir = \"/content/drive/MyDrive/Home fire dataset/test/images\"\n",
        "labels_dir = \"/content/drive/MyDrive/Home fire dataset/test/labels\"\n",
        "\n",
        "image_exts = (\".jpg\", \".jpeg\", \".png\")\n",
        "image_stems = {Path(f).stem for f in os.listdir(images_dir) if f.lower().endswith(image_exts)}\n",
        "label_stems = {Path(f).stem for f in os.listdir(labels_dir) if f.endswith(\".txt\")}\n",
        "\n",
        "missing_images = sorted(label_stems - image_stems)\n",
        "extra_images = sorted(image_stems - label_stems)\n",
        "\n",
        "# Delete YOLO txts that don’t match an image\n",
        "for stem in missing_images:\n",
        "    os.remove(os.path.join(labels_dir, f\"{stem}.txt\"))\n",
        "\n",
        "print(f\"✅ Kept {len(image_stems & label_stems)} valid image–label pairs.\")\n",
        "print(f\"🗑️ Removed {len(missing_images)} orphan label files (no matching image).\")\n",
        "if extra_images:\n",
        "    print(f\"⚠️ {len(extra_images)} images have no label files (you can auto-generate later).\")\n"
      ],
      "metadata": {
        "id": "fW5VzMIeVJY9"
      },
      "execution_count": null,
      "outputs": []
    },
    {
      "cell_type": "code",
      "source": [
        "from pathlib import Path\n",
        "image_stems = {Path(f).stem for f in os.listdir(images_dir)}\n",
        "label_stems = {Path(f).stem for f in os.listdir(labels_dir)}\n",
        "matched = image_stems & label_stems\n",
        "print(f\"✅ Matched pairs: {len(matched)} / {len(image_stems)} images\")"
      ],
      "metadata": {
        "id": "IwQmsHS_a4vX"
      },
      "execution_count": null,
      "outputs": []
    },
    {
      "cell_type": "code",
      "source": [
        "import os, random, time\n",
        "from pathlib import Path\n",
        "from PIL import Image, ImageStat, ImageDraw\n",
        "from IPython.display import display\n",
        "\n",
        "# ============================================================\n",
        "# 1️⃣ Paths\n",
        "# ============================================================\n",
        "images_dir = \"/content/drive/MyDrive/Home fire dataset/test/images\"\n",
        "labels_dir = \"/content/drive/MyDrive/Home fire dataset/test/labels\"\n",
        "\n",
        "# ============================================================\n",
        "# 2️⃣ Base Labels + Colors\n",
        "# ============================================================\n",
        "class_labels = {\n",
        "    0: \"🔥 Fire\",\n",
        "    1: \"💨 Serious Smoke\",\n",
        "    2: \"🌫️ Moderate Smoke\",\n",
        "    3: \"☁️ Mild Smoke\",\n",
        "    4: \"💧 Steam / False Alarm\",\n",
        "    5: \"🚫 Non-Fire Smoke\",\n",
        "    6: \"🕯️ Incense / Non-Threat Smoke\"\n",
        "}\n",
        "\n",
        "base_colors = {\n",
        "    0: (255, 70, 0),\n",
        "    1: (45, 45, 45),\n",
        "    2: (200, 110, 20),\n",
        "    3: (255, 220, 40),\n",
        "    4: (170, 170, 170),\n",
        "    5: (210, 210, 210),\n",
        "    6: (130, 200, 255)\n",
        "}\n",
        "\n",
        "# ============================================================\n",
        "# 3️⃣ YOLO TXT → BBox\n",
        "# ============================================================\n",
        "def yolo_to_bbox(line, w, h):\n",
        "    parts = line.strip().split()\n",
        "    if len(parts) != 5:\n",
        "        return None, None\n",
        "    cid, xc, yc, bw, bh = map(float, parts)\n",
        "    xc, yc, bw, bh = xc*w, yc*h, bw*w, bh*h\n",
        "    return int(cid), (int(xc-bw/2), int(yc-bh/2), int(xc+bw/2), int(yc+bh/2))\n",
        "\n",
        "# ============================================================\n",
        "# 4️⃣ Brightness & Contrast Analyzer\n",
        "# ============================================================\n",
        "def analyze_visibility(img, bbox):\n",
        "    x1, y1, x2, y2 = bbox\n",
        "    region = img.crop((x1, y1, x2, y2)).convert(\"RGB\")\n",
        "    stat = ImageStat.Stat(region)\n",
        "    brightness = sum(stat.mean)/(3*255)\n",
        "    contrast = sum(stat.stddev)/(3*128)\n",
        "    return brightness, contrast\n",
        "\n",
        "# ============================================================\n",
        "# 5️⃣ Dynamic Label System (Physics-Based)\n",
        "# ============================================================\n",
        "def dynamic_indicator(cid, brightness, contrast):\n",
        "    \"\"\"Assign severity labels and colors based on real fire/smoke brightness–contrast relations.\"\"\"\n",
        "    r, g, b = base_colors[cid]\n",
        "    desc, color = \"\", (r, g, b)\n",
        "\n",
        "    # 🔥 FIRE PHYSICS MAPPING\n",
        "    if cid == 0:\n",
        "        # Bright = high combustion temperature; contrast = flame flicker visibility\n",
        "        if brightness > 0.75 and contrast > 0.6:\n",
        "            desc, color = \"🔥 Inferno (High Heat, Violent Combustion)\", (255, 0, 0)\n",
        "        elif brightness > 0.55 and contrast > 0.45:\n",
        "            desc, color = \"🔥 Active Flames (High Heat, Turbulent Fire)\", (255, 80, 20)\n",
        "        elif brightness > 0.35:\n",
        "            desc, color = \"🔥 Moderate Fire (Stable Burn)\", (255, 130, 40)\n",
        "        else:\n",
        "            desc, color = \"🔥 Smoldering (Low Heat, Oxygen-Starved)\", (160, 70, 30)\n",
        "\n",
        "    # 💨 SMOKE DYNAMICS\n",
        "    elif cid in [1, 2, 3, 4, 5]:\n",
        "        # Brightness = light penetration through smoke\n",
        "        # Contrast = smoke particle density\n",
        "        if brightness < 0.2 and contrast < 0.25:\n",
        "            desc, color = \"💨 Black Thick Smoke (Toxic, Zero Visibility)\", (25, 25, 25)\n",
        "        elif brightness < 0.4 and contrast < 0.4:\n",
        "            desc, color = \"💨 Dense Gray Smoke (Poor Visibility)\", (80, 80, 80)\n",
        "        elif brightness < 0.55:\n",
        "            desc, color = \"🌫️ Light Gray Haze (Moderate Visibility)\", (160, 130, 90)\n",
        "        else:\n",
        "            desc, color = \"☁️ Thin Smoke (Dispersing)\", (220, 200, 120)\n",
        "\n",
        "        # Add detail classification based on contrast levels\n",
        "        if contrast < 0.3:\n",
        "            desc += \" — ⚠️ Low Definition (Particle Saturation)\"\n",
        "        elif contrast < 0.6:\n",
        "            desc += \" — 🟠 Medium Definition (Partial Visibility)\"\n",
        "        else:\n",
        "            desc += \" — ✅ Clear Definition (Dispersed Particles)\"\n",
        "\n",
        "    # 💧 STEAM & NON-FIRE SOURCES\n",
        "    elif cid == 4:\n",
        "        if brightness > 0.6:\n",
        "            desc, color = \"💧 Bright Steam Cloud (Reflected Light)\", (190, 190, 190)\n",
        "        else:\n",
        "            desc, color = \"💧 Damp Mist (Low Reflection)\", (120, 120, 120)\n",
        "    elif cid == 5:\n",
        "        desc, color = \"🚫 Non-Fire Smoke (Cool Source)\", (190, 190, 190)\n",
        "    elif cid == 6:\n",
        "        if brightness > 0.7:\n",
        "            desc, color = \"🕯️ Incense Glow (Light Diffusion)\", (160, 220, 255)\n",
        "        else:\n",
        "            desc, color = \"🕯️ Subtle Blue Haze\", (100, 180, 255)\n",
        "\n",
        "    return color, desc\n",
        "\n",
        "# ============================================================\n",
        "# 6️⃣ Display Annotated Images\n",
        "# ============================================================\n",
        "def display_dynamic_annotations(images_dir, labels_dir, n=10):\n",
        "    image_exts = (\".jpg\", \".jpeg\", \".png\")\n",
        "    image_stems = {Path(f).stem for f in os.listdir(images_dir) if f.lower().endswith(image_exts)}\n",
        "    label_stems = {Path(f).stem for f in os.listdir(labels_dir) if f.endswith(\".txt\")}\n",
        "    matched = sorted(image_stems & label_stems)\n",
        "\n",
        "    print(f\"\\n📂 Displaying {min(n, len(matched))} annotated samples (of {len(matched)} total)...\\n\")\n",
        "\n",
        "    sampled = random.sample(matched, min(n, len(matched)))\n",
        "    for stem in sampled:\n",
        "        img_path = os.path.join(images_dir, stem + \".jpg\")\n",
        "        txt_path = os.path.join(labels_dir, stem + \".txt\")\n",
        "        if not os.path.exists(img_path) or not os.path.exists(txt_path):\n",
        "            continue\n",
        "\n",
        "        img = Image.open(img_path).convert(\"RGB\")\n",
        "        draw = ImageDraw.Draw(img)\n",
        "        w, h = img.size\n",
        "\n",
        "        # 🟨 Legend\n",
        "        y = 10\n",
        "        for cid, cname in class_labels.items():\n",
        "            draw.rectangle([10, y, 30, y+20], fill=base_colors[cid])\n",
        "            draw.text((40, y), cname, fill=base_colors[cid])\n",
        "            y += 22\n",
        "\n",
        "        # 🟥 Draw Adaptive Bounding Boxes\n",
        "        with open(txt_path) as f:\n",
        "            for line in f:\n",
        "                class_id, bbox = yolo_to_bbox(line, w, h)\n",
        "                if not bbox: continue\n",
        "                brightness, contrast = analyze_visibility(img, bbox)\n",
        "                color, title = dynamic_indicator(class_id, brightness, contrast)\n",
        "\n",
        "                draw.rectangle(bbox, outline=color, width=4)\n",
        "                text_color = (255, 255, 255) if brightness < 0.5 else (0, 0, 0)\n",
        "                label_text = f\"{title} | B={brightness:.2f}, C={contrast:.2f}\"\n",
        "                draw.text((bbox[0] + 2, bbox[1] - 14), label_text, fill=text_color)\n",
        "                print(f\"{stem}.jpg — {label_text}\")\n",
        "\n",
        "        display(img)\n",
        "        print(f\"✅ Displayed: {stem}.jpg\\n\")\n",
        "\n",
        "# ============================================================\n",
        "# 7️⃣ Run\n",
        "# ============================================================\n",
        "display_dynamic_annotations(images_dir, labels_dir, n=30)\n",
        "\n"
      ],
      "metadata": {
        "id": "nT_aa_4NVLOg"
      },
      "execution_count": null,
      "outputs": []
    },
    {
      "cell_type": "markdown",
      "metadata": {
        "id": "TKD1VpsSbpt3"
      },
      "source": [
        "The funtion \"draw_yolo_box\", takes input an image path and its corresponding label path. Then, draws the bounding boxes and write the object's label in each box. Finally it displays the images"
      ]
    },
    {
      "cell_type": "code",
      "execution_count": null,
      "metadata": {
        "id": "u1G3t3yXcVOl"
      },
      "outputs": [],
      "source": [
        "def draw_yolo_bbox(image_path, label_path):\n",
        "    # Load image\n",
        "    image = cv2.imread(image_path)\n",
        "    image = cv2.cvtColor(image, cv2.COLOR_BGR2RGB)\n",
        "    height, width, _ = image.shape\n",
        "\n",
        "    # Read label file\n",
        "    with open(label_path, 'r') as file:\n",
        "        bboxes = file.readlines()\n",
        "\n",
        "    # Draw each bbox\n",
        "    for bbox in bboxes:\n",
        "        cls, x_center, y_center, w, h = map(float, bbox.strip().split())\n",
        "        x1 = int((x_center - w / 2) * width)\n",
        "        y1 = int((y_center - h / 2) * height)\n",
        "        x2 = int((x_center + w / 2) * width)\n",
        "        y2 = int((y_center + h / 2) * height)\n",
        "        cv2.rectangle(image, (x1, y1), (x2, y2), (255, 0, 0), 2)\n",
        "    return image\n"
      ]
    },
    {
      "cell_type": "markdown",
      "metadata": {
        "id": "5QcDHeIZcbuS"
      },
      "source": [
        "The function \"print_random_images\" takes in input the list of images' paths, a number defining how much images we want to print. So it randomly selects the images to display and calls \"draw_yolo_bbox\"."
      ]
    },
    {
      "cell_type": "code",
      "execution_count": null,
      "metadata": {
        "id": "H9L8MkvV-EBh"
      },
      "outputs": [],
      "source": [
        "def print_random_imagesFireandSmoke(image_paths, n=30):\n",
        "    selected_images = random.sample(image_paths, n)\n",
        "\n",
        "    plt.figure(figsize=(15, 10))\n",
        "    for i, img_path in enumerate(selected_images):\n",
        "        # get file name (without extension)\n",
        "        name = os.path.splitext(os.path.basename(img_path))[0]\n",
        "        # construct label path correctly\n",
        "        label_path = os.path.join(os.path.dirname(os.path.dirname(img_path)), \"labels\", f\"{name}.txt\")\n",
        "\n",
        "        # draw boxes\n",
        "        image = draw_yolo_bbox(img_path, label_path)\n",
        "        plt.subplot(2, 3, i+1)\n",
        "        plt.imshow(image)\n",
        "        plt.axis(\"off\")\n",
        "        plt.title(name)\n",
        "    plt.show()\n"
      ]
    },
    {
      "cell_type": "code",
      "execution_count": null,
      "metadata": {
        "id": "VCmyf-A-pgZN"
      },
      "outputs": [],
      "source": [
        "def print_random_imagesHomeFire(image_paths, n=30):\n",
        "    selected_images = random.sample(image_paths, n)\n",
        "\n",
        "    plt.figure(figsize=(15, 10))\n",
        "    for i, img_path in enumerate(selected_images):\n",
        "        # get file name (without extension)\n",
        "        name = os.path.splitext(os.path.basename(img_path))[0]\n",
        "        # construct label path correctly\n",
        "        label_path = os.path.join(os.path.dirname(os.path.dirname(img_path)), \"labels\", f\"{name}.txt\")\n",
        "\n",
        "        # draw boxes\n",
        "        image = draw_yolo_bbox(img_path, label_path)\n",
        "        plt.subplot(2, 3, i+1)\n",
        "        plt.imshow(image)\n",
        "        plt.axis(\"off\")\n",
        "        plt.title(name)\n",
        "    plt.show()"
      ]
    },
    {
      "cell_type": "code",
      "execution_count": null,
      "metadata": {
        "id": "j-qPj7DNoZTH"
      },
      "outputs": [],
      "source": []
    },
    {
      "cell_type": "code",
      "execution_count": null,
      "metadata": {
        "id": "p6TvL9xMmpcx"
      },
      "outputs": [],
      "source": [
        "import os, random, time\n",
        "from pathlib import Path\n",
        "from PIL import Image, ImageDraw, ImageStat\n",
        "from IPython.display import display, clear_output\n",
        "\n",
        "# ============================================================\n",
        "# 1️⃣ Class Labels & Colors\n",
        "# ============================================================\n",
        "class_labels = {\n",
        "    0: \"🔥 Fire\",\n",
        "    1: \"💨 Serious Smoke\",\n",
        "    2: \"🌫️ Moderate Smoke\",\n",
        "    3: \"☁️ Mild Smoke\",\n",
        "    4: \"💧 Steam / False Alarm\",\n",
        "    5: \"🚫 Non-Fire Smoke\",\n",
        "    6: \"🕯️ Incense / Non-Threat Smoke\"\n",
        "}\n",
        "base_colors = {\n",
        "    0: (255, 60, 0),\n",
        "    1: (40, 40, 40),\n",
        "    2: (180, 100, 20),\n",
        "    3: (255, 220, 50),\n",
        "    4: (150, 150, 150),\n",
        "    5: (200, 200, 200),\n",
        "    6: (130, 200, 255)\n",
        "}\n",
        "\n",
        "# ============================================================\n",
        "# 2️⃣ YOLO → BBox\n",
        "# ============================================================\n",
        "def yolo_to_bbox(line, w, h):\n",
        "    parts = line.strip().split()\n",
        "    if len(parts) != 5:\n",
        "        return None, None\n",
        "    cid, xc, yc, bw, bh = map(float, parts)\n",
        "    xc, yc, bw, bh = xc*w, yc*h, bw*w, bh*h\n",
        "    return int(cid), (int(xc-bw/2), int(yc-bh/2), int(xc+bw/2), int(yc+bh/2))\n",
        "\n",
        "# ============================================================\n",
        "# 3️⃣ Analyzer\n",
        "# ============================================================\n",
        "def analyze_conditions(img, bbox, cid):\n",
        "    x1, y1, x2, y2 = bbox\n",
        "    region = img.crop((x1, y1, x2, y2)).convert(\"RGB\")\n",
        "    gray = region.convert(\"L\")\n",
        "    mean_brightness = ImageStat.Stat(gray).mean[0] / 255\n",
        "    stddev = ImageStat.Stat(gray).stddev[0] / 255\n",
        "\n",
        "    # Clarity levels\n",
        "    if stddev < 0.25: clarity = \"⚠️ Low Visibility\"\n",
        "    elif stddev < 0.45: clarity = \"🟠 Partial Visibility\"\n",
        "    else: clarity = \"✅ Clear Details\"\n",
        "\n",
        "    # Fire logic\n",
        "    if cid == 0:\n",
        "        if mean_brightness > 0.75 and stddev > 0.5:\n",
        "            return (255, 0, 0), f\"🔥 Inferno-Level Fire — {clarity}\"\n",
        "        elif mean_brightness > 0.55:\n",
        "            return (255, 90, 20), f\"🔥 Intense Flames — {clarity}\"\n",
        "        elif mean_brightness > 0.35:\n",
        "            return (255, 160, 60), f\"🔥 Moderate Fire — {clarity}\"\n",
        "        else:\n",
        "            return (180, 70, 30), f\"🔥 Smoldering Fire — {clarity}\"\n",
        "\n",
        "    # Smoke logic\n",
        "    elif cid in [1, 2, 3, 5]:\n",
        "        if mean_brightness < 0.25:\n",
        "            return (30, 30, 30), f\"💨 Dense Smoke — {clarity}\"\n",
        "        elif mean_brightness < 0.35:\n",
        "            return (80, 80, 80), f\"💨 Heavy Smoke — {clarity}\"\n",
        "        elif mean_brightness < 0.55:\n",
        "            return (160, 120, 70), f\"🌫️ Moderate Smoke — {clarity}\"\n",
        "        else:\n",
        "            return (220, 200, 150), f\"☁️ Light Smoke — {clarity}\"\n",
        "\n",
        "    # Steam / Incense\n",
        "    elif cid == 4:\n",
        "        return ((210,210,210) if mean_brightness>0.7 else (150,150,150),\n",
        "                f\"💧 {'Bright' if mean_brightness>0.7 else 'Dim'} Steam — {clarity}\")\n",
        "    elif cid == 6:\n",
        "        return ((160,220,255) if mean_brightness>0.6 else (100,160,255),\n",
        "                f\"🕯️ {'Gentle' if mean_brightness>0.6 else 'Subtle'} Incense — {clarity}\")\n",
        "\n",
        "    return base_colors.get(cid, (255,255,255)), f\"Unknown — {clarity}\"\n",
        "\n",
        "# ============================================================\n",
        "# 4️⃣ Valid Pair Finder\n",
        "# ============================================================\n",
        "def verify_valid_pairs(images_dir, labels_root):\n",
        "    image_exts = (\".jpg\", \".jpeg\", \".png\")\n",
        "    image_stems = {Path(f).stem for f in os.listdir(images_dir) if f.lower().endswith(image_exts)}\n",
        "    all_txts = [os.path.join(r, f)\n",
        "                for r, _, fs in os.walk(labels_root)\n",
        "                for f in fs if f.endswith(\".txt\")]\n",
        "    return [t for t in all_txts if Path(t).stem in image_stems]\n",
        "\n",
        "# ============================================================\n",
        "# 5️⃣ Display Images — No Repeats\n",
        "# ============================================================\n",
        "shown_images = set()\n",
        "\n",
        "def display_random_images(dataset_name, images_dir, n=30):\n",
        "    image_exts = [\".jpg\", \".jpeg\", \".png\"]\n",
        "    possible_roots = [\n",
        "        Path(images_dir).parent / \"labels\",\n",
        "        Path(images_dir).parent / \"labels/train\",\n",
        "        Path(images_dir).parent / \"labels/train2017\",\n",
        "        Path(images_dir).parent.parent / \"labels\",\n",
        "        Path(images_dir).parent.parent / \"labels/train\"\n",
        "    ]\n",
        "    labels_root = next((p for p in possible_roots if p.exists()), None)\n",
        "    if not labels_root:\n",
        "        print(f\"❌ No label folder found for {dataset_name}\")\n",
        "        return\n",
        "\n",
        "    matched_txts = verify_valid_pairs(images_dir, labels_root)\n",
        "    if not matched_txts:\n",
        "        print(f\"❌ No valid pairs found for {dataset_name}\")\n",
        "        return\n",
        "\n",
        "    # Remove already shown images\n",
        "    unseen_txts = [t for t in matched_txts if Path(t).stem not in shown_images]\n",
        "    if not unseen_txts:\n",
        "        print(f\"✅ All images already shown for {dataset_name}. Resetting tracker.\")\n",
        "        shown_images.clear()\n",
        "        unseen_txts = matched_txts\n",
        "\n",
        "    random.shuffle(unseen_txts)\n",
        "    sample_txts = unseen_txts[:n]\n",
        "\n",
        "    print(f\"\\n📂 Dataset: {dataset_name}\")\n",
        "    print(f\"📸 Showing {len(sample_txts)} unique samples (remaining: {len(unseen_txts) - len(sample_txts)})\\n\")\n",
        "\n",
        "    for i, txt_path in enumerate(sample_txts, 1):\n",
        "        img_name = Path(txt_path).stem\n",
        "        shown_images.add(img_name)\n",
        "\n",
        "        img_path = next(\n",
        "            (os.path.join(images_dir, img_name + ext)\n",
        "             for ext in image_exts\n",
        "             if os.path.exists(os.path.join(images_dir, img_name + ext))),\n",
        "            None\n",
        "        )\n",
        "        if not img_path: continue\n",
        "\n",
        "        with Image.open(img_path).convert(\"RGB\") as img:\n",
        "            max_dim = 720\n",
        "            w, h = img.size\n",
        "            if max(w, h) > max_dim:\n",
        "                scale = max_dim / max(w, h)\n",
        "                img = img.resize((int(w * scale), int(h * scale)))\n",
        "\n",
        "            draw = ImageDraw.Draw(img)\n",
        "            y = 10\n",
        "            for cid, cname in class_labels.items():\n",
        "                draw.rectangle([10, y, 30, y + 20], fill=base_colors[cid])\n",
        "                draw.text((40, y), cname, fill=base_colors[cid])\n",
        "                y += 22\n",
        "\n",
        "            with open(txt_path) as f:\n",
        "                for line in f.readlines():\n",
        "                    cid, bbox = yolo_to_bbox(line, w, h)\n",
        "                    if not bbox: continue\n",
        "                    color, label = analyze_conditions(img, bbox, cid)\n",
        "                    draw.rectangle(bbox, outline=color, width=3)\n",
        "                    draw.text((bbox[0] + 3, max(0, bbox[1] - 15)), label, fill=color)\n",
        "\n",
        "            display(img)\n",
        "            print(f\"✅ Displayed ({i}/{len(sample_txts)}): {img_name}.jpg\")\n",
        "\n",
        "        time.sleep(0.3)\n",
        "\n",
        "    print(f\"🏁 Completed {len(sample_txts)} unique samples from {dataset_name}.\\n\")\n",
        "\n",
        "# ============================================================\n",
        "# 6️⃣ Sequential Display for Both Datasets\n",
        "# ============================================================\n",
        "display_random_images(\"🔥 Fire and Smoke\", \"/content/drive/MyDrive/Fire_and_Smoke_BBox_COCO_Dateset/coco128/train2017\", n=30)\n",
        "display_random_images(\"🏠 Home Fire dataset\", \"/content/drive/MyDrive/Home fire dataset/train/images\", n=30)\n",
        "\n",
        "\n"
      ]
    },
    {
      "cell_type": "code",
      "execution_count": null,
      "metadata": {
        "id": "JF77_6vG2AoF"
      },
      "outputs": [],
      "source": []
    },
    {
      "cell_type": "markdown",
      "metadata": {
        "id": "z5KCOOvedKoT"
      },
      "source": [
        "Now, finally calling the function to display 30 images randomly."
      ]
    },
    {
      "cell_type": "code",
      "execution_count": null,
      "metadata": {
        "id": "GUb1DZnodJnc"
      },
      "outputs": [],
      "source": [
        "# Display 30 random images from Fire and Smoke dataset\n",
        "display_random_images(\"Fire and Smoke\", \"/content/drive/MyDrive/Fire_and_Smoke_BBox_COCO_Dateset/coco128/train2017\", n=30)\n",
        "\n",
        "# Display 30 random images from Home Fire dataset\n",
        "display_random_images(\"Home Fire dataset\", \"/content/drive/MyDrive/Home fire dataset/train/images\", n=30)\n"
      ]
    },
    {
      "cell_type": "code",
      "execution_count": null,
      "metadata": {
        "id": "9Ox7JnU9qj1o"
      },
      "outputs": [],
      "source": []
    },
    {
      "cell_type": "markdown",
      "metadata": {
        "id": "Y2XL5eBUGs61"
      },
      "source": [
        "## Dataset Cleaning"
      ]
    },
    {
      "cell_type": "markdown",
      "metadata": {
        "id": "8VphL1Y3eDBT"
      },
      "source": [
        "Interestingly, we found out that this dataset is not clean. i.e. labels of some of the images are missing and there are extra labels. So, we need to find out the missing labels files and remove that from the labels folder. Also, we need to find out missing images, which we also need to remove from the images folder.\n"
      ]
    },
    {
      "cell_type": "code",
      "execution_count": null,
      "metadata": {
        "id": "hp-MBacMgDlx"
      },
      "outputs": [],
      "source": [
        "#we already have a list of images' paths and labels' path, stored in variables : image_paths and label_paths\n",
        "print(image_paths)\n",
        "print(label_paths)"
      ]
    },
    {
      "cell_type": "markdown",
      "metadata": {
        "id": "URBrBcojgRPf"
      },
      "source": [
        "Now, we make a list of only the names of images' files and labels' files.\n",
        "\n",
        "e.g.  only  000000000531 without the extension"
      ]
    },
    {
      "cell_type": "code",
      "execution_count": null,
      "metadata": {
        "id": "a5E_Pw6dgOMO"
      },
      "outputs": [],
      "source": [
        "# Get the list of filenames without extensions\n",
        "image_files = {file.split(\"/\")[-1].split(\".\")[0] for file in image_paths}\n",
        "label_files = {file.split(\"/\")[-1].split(\".\")[0] for file in label_paths}\n",
        "\n",
        "print(image_files)"
      ]
    },
    {
      "cell_type": "code",
      "execution_count": null,
      "metadata": {
        "id": "LJKT0PFHhk5Y"
      },
      "outputs": [],
      "source": [
        "# Find extra files in each folder\n",
        "extra_images = image_files - label_files\n",
        "extra_labels = label_files - image_files\n",
        "\n",
        "# Output the results\n",
        "print(f\"Extra images (without corresponding labels): {extra_images}\")\n",
        "print(f\"Extra labels (without corresponding images): {extra_labels}\")"
      ]
    },
    {
      "cell_type": "code",
      "execution_count": null,
      "metadata": {
        "id": "bd53OlLafsVP"
      },
      "outputs": [],
      "source": [
        "import os\n",
        "\n",
        "# Corrected removal loop\n",
        "for file in extra_images:\n",
        "    # Get only the filename without any folder\n",
        "    filename = os.path.basename(file)\n",
        "    image_path = os.path.join(dataset_path, \"images\", filename)\n",
        "    if os.path.exists(image_path):\n",
        "        os.remove(image_path)\n",
        "        print(f\"Removed: {image_path}\")\n",
        "    else:\n",
        "        print(f\"Not found: {image_path}\")\n",
        "\n",
        "for file in extra_labels:\n",
        "    filename = os.path.basename(file)\n",
        "    label_path = os.path.join(dataset_path, \"labels\", filename)\n",
        "    if os.path.exists(label_path):\n",
        "        os.remove(label_path)\n",
        "        print(f\"Removed: {label_path}\")\n",
        "    else:\n",
        "        print(f\"Not found: {label_path}\")\n",
        "\n"
      ]
    },
    {
      "cell_type": "markdown",
      "metadata": {
        "id": "HFC1RmdVhter"
      },
      "source": [
        "Now removing them from the dataset:"
      ]
    },
    {
      "cell_type": "code",
      "execution_count": null,
      "metadata": {
        "id": "akqYMfZJjBop"
      },
      "outputs": [],
      "source": [
        "os.path.join(dataset_path,\"images\", file + '.jpg')"
      ]
    },
    {
      "cell_type": "markdown",
      "metadata": {
        "id": "ZfqxKksXihaM"
      },
      "source": [
        "Check again if it worked:"
      ]
    },
    {
      "cell_type": "code",
      "execution_count": null,
      "metadata": {
        "id": "cluJu0Hqioo7"
      },
      "outputs": [],
      "source": [
        "# Get the list of all images paths in the dataset\n",
        "image_paths = [os.path.join(dataset_path, \"images\", image_name) for image_name in os.listdir(os.path.join(dataset_path, \"images\"))]\n",
        "\n",
        "# Get the list of all labels paths in the dataset\n",
        "label_paths = [os.path.join(dataset_path, \"labels\", label_name) for label_name in os.listdir(os.path.join(dataset_path, \"labels\"))]\n",
        "\n",
        "# Get the list of filenames without extensions\n",
        "image_files = {file.split(\"/\")[-1].split(\".\")[0] for file in image_paths}\n",
        "label_files = {file.split(\"/\")[-1].split(\".\")[0] for file in label_paths}\n",
        "# Find extra files in each folder\n",
        "extra_images = image_files - label_files\n",
        "extra_labels = label_files - image_files\n",
        "\n",
        "# Output the results\n",
        "print(f\"Extra images (without corresponding labels): {extra_images}\")\n",
        "print(f\"Extra labels (without corresponding images): {extra_labels}\")\n",
        "\n"
      ]
    },
    {
      "cell_type": "markdown",
      "metadata": {
        "id": "B7LJCLrTI_69"
      },
      "source": [
        "There are none! great!\n"
      ]
    },
    {
      "cell_type": "code",
      "execution_count": null,
      "metadata": {
        "id": "z-RqYz7GeYUW"
      },
      "outputs": [],
      "source": [
        "!pip install ultralytics"
      ]
    },
    {
      "cell_type": "code",
      "execution_count": null,
      "metadata": {
        "id": "3ao_GrDeelx7"
      },
      "outputs": [],
      "source": [
        "import os\n",
        "print(os.path.exists(r\"Home Fire dataset\\test\\images\"))\n",
        "print(os.path.exists(r\"Fire and Smoke BBox COCO Dateset\\coco128\\images\\train2017\"))\n"
      ]
    },
    {
      "cell_type": "code",
      "execution_count": null,
      "metadata": {
        "id": "D0SXxWDDyZpr"
      },
      "outputs": [],
      "source": [
        "pip install --upgrade numpy torch torchvision torchaudio"
      ]
    },
    {
      "cell_type": "code",
      "execution_count": null,
      "metadata": {
        "id": "fnmYJdry2L5h"
      },
      "outputs": [],
      "source": [
        "!pip install ultralytics\n",
        "!pip install numpy torch torchvision\n"
      ]
    },
    {
      "cell_type": "code",
      "execution_count": null,
      "metadata": {
        "id": "FbsPYfjcFigH"
      },
      "outputs": [],
      "source": [
        "# 🚀 YOLOv8 Fire/Smoke CPU-Safe Trainer (v5 – Fast-Track Full 50 Epochs)\n",
        "import os, sys, yaml, glob, subprocess, importlib, torch, builtins, multiprocessing\n",
        "from ultralytics import YOLO\n",
        "import ultralytics\n",
        "\n",
        "# ============================================================\n",
        "# 1️⃣  Force NumPy globally\n",
        "# ============================================================\n",
        "def force_numpy():\n",
        "    try:\n",
        "        import numpy as np\n",
        "        _ = np.zeros((1, 1))\n",
        "        print(\"✅ NumPy working in main process.\")\n",
        "    except Exception as e:\n",
        "        print(f\"⚠️ NumPy issue: {e} — reinstalling…\")\n",
        "        subprocess.check_call([sys.executable, \"-m\", \"pip\", \"install\", \"--force-reinstall\", \"numpy\"])\n",
        "        import numpy as np\n",
        "    builtins.np = importlib.import_module(\"numpy\")\n",
        "    sys.modules[\"numpy\"] = builtins.np\n",
        "    return builtins.np\n",
        "np = force_numpy()\n",
        "\n",
        "# ============================================================\n",
        "# 2️⃣  Safe torch.from_numpy patch\n",
        "# ============================================================\n",
        "_real_from_numpy = torch.from_numpy\n",
        "def safe_from_numpy(x):\n",
        "    try:\n",
        "        import numpy as np\n",
        "        builtins.np = np\n",
        "        sys.modules[\"numpy\"] = np\n",
        "        return _real_from_numpy(x)\n",
        "    except Exception as e:\n",
        "        print(\"⚠️ NumPy reload inside torch.from_numpy:\", e)\n",
        "        import importlib, numpy\n",
        "        importlib.reload(numpy)\n",
        "        builtins.np = numpy\n",
        "        sys.modules[\"numpy\"] = numpy\n",
        "        return _real_from_numpy(x)\n",
        "torch.from_numpy = safe_from_numpy\n",
        "\n",
        "# ============================================================\n",
        "# 3️⃣  Paths\n",
        "# ============================================================\n",
        "train_images = r\"Fire and Smoke BBox COCO Dateset\\coco128\\train2017\"\n",
        "val_images   = r\"Home Fire dataset\\test\\images\"\n",
        "yaml_path    = r\"fire_smoke\\data.yaml\"\n",
        "\n",
        "# ============================================================\n",
        "# 4️⃣  Dataset sanity check\n",
        "# ============================================================\n",
        "def check_images(path):\n",
        "    imgs = [f for ext in (\"*.jpg\",\"*.jpeg\",\"*.png\")\n",
        "            for f in glob.glob(os.path.join(path, ext))]\n",
        "    print(f\"✅ Found {len(imgs)} images in {path}\")\n",
        "    return len(imgs)\n",
        "check_images(train_images); check_images(val_images)\n",
        "\n",
        "train_labels = train_images.replace(\"images\", \"labels\")\n",
        "os.makedirs(train_labels, exist_ok=True)\n",
        "for img in glob.glob(os.path.join(train_images, \"*.jpg\")):\n",
        "    label = os.path.join(train_labels, os.path.splitext(os.path.basename(img))[0] + \".txt\")\n",
        "    if not os.path.exists(label):\n",
        "        open(label, \"w\").close()\n",
        "\n",
        "# ============================================================\n",
        "# 5️⃣  YAML\n",
        "# ============================================================\n",
        "os.makedirs(os.path.dirname(yaml_path), exist_ok=True)\n",
        "yaml.safe_dump({\n",
        "    \"train\": os.path.abspath(train_images).replace(\"\\\\\", \"/\"),\n",
        "    \"val\":   os.path.abspath(val_images).replace(\"\\\\\", \"/\"),\n",
        "    \"nc\": 7,\n",
        "    \"names\": [\n",
        "        \"Fire\",\"Serious Smoke\",\"Moderate Smoke\",\"Mild Smoke\",\n",
        "        \"Steam / False Alarm\",\"Non-Fire Smoke\",\"Incense / Non-Threat Smoke\"\n",
        "    ]\n",
        "}, open(yaml_path, \"w\"))\n",
        "print(f\"✅ YAML ready → {yaml_path}\")\n",
        "\n",
        "# ============================================================\n",
        "# 6️⃣  Info\n",
        "# ============================================================\n",
        "print(f\"\\n🔎 YOLO version: {ultralytics.__version__}\")\n",
        "print(\"⚠️ CUDA not available — CPU mode only.\" if not torch.cuda.is_available()\n",
        "      else f\"✅ CUDA: {torch.cuda.get_device_name(0)}\")\n",
        "\n",
        "# ============================================================\n",
        "# 7️⃣  Training (Fast-Track but Full 50 Epochs)\n",
        "# ============================================================\n",
        "multiprocessing.set_start_method(\"spawn\", force=True)\n",
        "model = YOLO(\"yolov8n.pt\")\n",
        "\n",
        "train_args = dict(\n",
        "    data=yaml_path,\n",
        "    epochs=50,              # full length\n",
        "    imgsz=416,              # smaller images = faster\n",
        "    batch=4,                # CPU-friendly\n",
        "    workers=0,              # avoid Windows hang\n",
        "    exist_ok=True,\n",
        "    freeze=10,              # freeze early backbone layers\n",
        "    patience=5,             # early-stop if plateau\n",
        "    lr0=0.005,              # slightly higher learning rate for quicker convergence\n",
        "    momentum=0.937,\n",
        "    weight_decay=0.0005,\n",
        "    name=\"fire_smoke_yolov8n_cpu_fasttrack_full\"\n",
        ")\n",
        "\n",
        "print(\"\\n🚀 Starting YOLOv8 training (CPU Fast-Track 50 Epochs)…\\n\")\n",
        "model.train(**train_args)\n",
        "print(\"\\n✅ Training completed successfully (Fast-Track Full 50 Epochs).\")\n",
        "\n",
        "\n"
      ]
    },
    {
      "cell_type": "code",
      "execution_count": null,
      "metadata": {
        "id": "3QA7O9_88drP"
      },
      "outputs": [],
      "source": [
        "# ============================================================\n",
        "# 🧪 WEEK 3 (Oct 21–24): Test model on new images/videos\n",
        "# ============================================================\n",
        "\n",
        "from ultralytics import YOLO\n",
        "import cv2, os, glob, torch, shutil\n",
        "import matplotlib.pyplot as plt\n",
        "from pathlib import Path\n",
        "from IPython.display import Image, display\n",
        "import numpy as np\n",
        "\n",
        "# ------------------------------------------------------------\n",
        "# 🔹 0. Auto-prepare test directory\n",
        "# ------------------------------------------------------------\n",
        "val_dir  = r\"Home Fire dataset\\test\\images\"\n",
        "test_dir = r\"Home Fire dataset\\new_test\\images\"\n",
        "os.makedirs(test_dir, exist_ok=True)\n",
        "\n",
        "# If no images exist in new_test, copy 5 validation images\n",
        "existing = glob.glob(os.path.join(test_dir, \"*.jpg\"))\n",
        "if len(existing) == 0:\n",
        "    src_imgs = sorted(glob.glob(os.path.join(val_dir, \"*.jpg\")))[:30]\n",
        "    for src in src_imgs:\n",
        "        shutil.copy(src, test_dir)\n",
        "    print(f\"📁 Copied {len(src_imgs)} sample images from validation set → {test_dir}\")\n",
        "else:\n",
        "    print(f\"📂 Found {len(existing)} existing test images in {test_dir}\")\n",
        "\n",
        "# ------------------------------------------------------------\n",
        "# 🔹 1. Load trained model\n",
        "# ------------------------------------------------------------\n",
        "trained_model_path = r\"runs/detect/fire_smoke_yolov8n_cpu_safe/weights/best.pt\"\n",
        "assert os.path.exists(trained_model_path), f\"❌ Model not found at {trained_model_path}\"\n",
        "model = YOLO(trained_model_path)\n",
        "print(f\"✅ Loaded trained model → {trained_model_path}\")\n",
        "\n",
        "# ------------------------------------------------------------\n",
        "# 🔹 2. Run inference on test images\n",
        "# ------------------------------------------------------------\n",
        "num_imgs = len(glob.glob(os.path.join(test_dir, \"*.jpg\")))\n",
        "print(f\"📂 Testing on {num_imgs} images in {test_dir}\")\n",
        "\n",
        "pred_results = model.predict(source=test_dir, conf=0.5, save=True, name=\"week3_predict\")\n",
        "\n",
        "# Show sample predictions\n",
        "pred_folder = Path(\"runs/detect/week3_predict\")\n",
        "pred_imgs = sorted(pred_folder.glob(\"*.jpg\"))[:5]\n",
        "if pred_imgs:\n",
        "    for img_path in pred_imgs:\n",
        "        display(Image(filename=img_path))\n",
        "else:\n",
        "    print(\"⚠️ No predicted images found to display.\")\n",
        "\n",
        "# ------------------------------------------------------------\n",
        "# 🔹 3. Test on a video (if available)\n",
        "# ------------------------------------------------------------\n",
        "test_video = r\"Home Fire dataset\\videos\\fire_test.mp4\"\n",
        "if os.path.exists(test_video):\n",
        "    print(\"🎥 Running inference on video...\")\n",
        "    model.predict(source=test_video, conf=0.5, save=True, name=\"week3_video\")\n",
        "else:\n",
        "    print(\"⚠️ No test video found — skipping video inference.\")\n",
        "\n",
        "# ------------------------------------------------------------\n",
        "# 🔹 4. Basic error analysis (confidence stats)\n",
        "# ------------------------------------------------------------\n",
        "confidences = []\n",
        "for r in pred_results:\n",
        "    for b in r.boxes:\n",
        "        confidences.append(float(b.conf))\n",
        "\n",
        "if confidences:\n",
        "    plt.hist(confidences, bins=10)\n",
        "    plt.title(\"Distribution of Detection Confidences (Week 3)\")\n",
        "    plt.xlabel(\"Confidence Score\")\n",
        "    plt.ylabel(\"Frequency\")\n",
        "    plt.show()\n",
        "    print(f\"📊 Average confidence: {np.mean(confidences):.3f}\")\n",
        "else:\n",
        "    print(\"⚠️ No detections found in new test images.\")\n",
        "\n",
        "# ------------------------------------------------------------\n",
        "# 🔹 5. Generate report summary\n",
        "# ------------------------------------------------------------\n",
        "summary = f\"\"\"\n",
        "📅 Week 3 (Oct 21–24) – Model Evaluation Summary\n",
        "• Tested YOLOv8n Fire/Smoke model on new unseen images/videos\n",
        "• Saved predictions in: runs/detect/week3_predict/\n",
        "• Avg confidence: {np.mean(confidences):.3f} (based on {len(confidences)} detections)\n",
        "• Visual outputs ready for presentation slides\n",
        "\"\"\"\n",
        "print(summary)\n",
        "\n"
      ]
    },
    {
      "cell_type": "markdown",
      "metadata": {
        "id": "g-oVT-0tbRCf"
      },
      "source": [
        "after training, all of the precision confusion matrix and everything, check to see if results are satisfactory"
      ]
    }
  ],
  "metadata": {
    "colab": {
      "provenance": [],
      "include_colab_link": true
    },
    "kernelspec": {
      "display_name": "Python 3",
      "name": "python3"
    },
    "language_info": {
      "name": "python"
    }
  },
  "nbformat": 4,
  "nbformat_minor": 0
}